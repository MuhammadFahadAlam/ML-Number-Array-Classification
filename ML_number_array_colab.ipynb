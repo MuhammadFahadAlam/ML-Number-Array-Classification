{
  "nbformat": 4,
  "nbformat_minor": 0,
  "metadata": {
    "colab": {
      "name": "ML_number_array_colab.ipynb",
      "provenance": [],
      "collapsed_sections": []
    },
    "kernelspec": {
      "display_name": "Python 3",
      "language": "python",
      "name": "python3"
    },
    "language_info": {
      "codemirror_mode": {
        "name": "ipython",
        "version": 3
      },
      "file_extension": ".py",
      "mimetype": "text/x-python",
      "name": "python",
      "nbconvert_exporter": "python",
      "pygments_lexer": "ipython3",
      "version": "3.7.4"
    }
  },
  "cells": [
    {
      "cell_type": "markdown",
      "metadata": {
        "id": "ap3VB_dYtDZO"
      },
      "source": [
        "# Number Array Machine Learning Project"
      ]
    },
    {
      "cell_type": "markdown",
      "metadata": {
        "id": "0MeDJl3V6SnR"
      },
      "source": [
        "## Module Imports"
      ]
    },
    {
      "cell_type": "code",
      "metadata": {
        "colab": {
          "base_uri": "https://localhost:8080/"
        },
        "id": "AJwHwecACT1Z",
        "outputId": "ccd3a8b3-4db7-472d-c68d-7fcf57ed2e68"
      },
      "source": [
        "!pip install imbalanced-learn"
      ],
      "execution_count": null,
      "outputs": [
        {
          "output_type": "stream",
          "name": "stdout",
          "text": [
            "Requirement already satisfied: imbalanced-learn in /usr/local/lib/python3.7/dist-packages (0.4.3)\n",
            "Requirement already satisfied: numpy>=1.8.2 in /usr/local/lib/python3.7/dist-packages (from imbalanced-learn) (1.19.5)\n",
            "Requirement already satisfied: scikit-learn>=0.20 in /usr/local/lib/python3.7/dist-packages (from imbalanced-learn) (0.22.2.post1)\n",
            "Requirement already satisfied: scipy>=0.13.3 in /usr/local/lib/python3.7/dist-packages (from imbalanced-learn) (1.4.1)\n",
            "Requirement already satisfied: joblib>=0.11 in /usr/local/lib/python3.7/dist-packages (from scikit-learn>=0.20->imbalanced-learn) (1.0.1)\n"
          ]
        }
      ]
    },
    {
      "cell_type": "code",
      "metadata": {
        "colab": {
          "base_uri": "https://localhost:8080/"
        },
        "id": "g8bbjXUoL43f",
        "outputId": "68e1739b-0b1f-4eed-c691-22ee75cf4252"
      },
      "source": [
        "import numpy as np\n",
        "import pandas as pd\n",
        "import itertools\n",
        "import random\n",
        "\n",
        "from imblearn.over_sampling import SMOTE\n",
        "from sklearn.model_selection import train_test_split\n",
        "from sklearn.naive_bayes import GaussianNB\n",
        "\n",
        "from sklearn.metrics import accuracy_score\n",
        "from sklearn.ensemble import RandomForestClassifier"
      ],
      "execution_count": null,
      "outputs": [
        {
          "output_type": "stream",
          "name": "stderr",
          "text": [
            "/usr/local/lib/python3.7/dist-packages/sklearn/externals/six.py:31: FutureWarning: The module is deprecated in version 0.21 and will be removed in version 0.23 since we've dropped support for Python 2.7. Please rely on the official version of six (https://pypi.org/project/six/).\n",
            "  \"(https://pypi.org/project/six/).\", FutureWarning)\n",
            "/usr/local/lib/python3.7/dist-packages/sklearn/utils/deprecation.py:144: FutureWarning: The sklearn.neighbors.base module is  deprecated in version 0.22 and will be removed in version 0.24. The corresponding classes / functions should instead be imported from sklearn.neighbors. Anything that cannot be imported from sklearn.neighbors is now part of the private API.\n",
            "  warnings.warn(message, FutureWarning)\n"
          ]
        }
      ]
    },
    {
      "cell_type": "markdown",
      "metadata": {
        "id": "TJMvwTpU6Wnj"
      },
      "source": [
        "## Class with all Methods"
      ]
    },
    {
      "cell_type": "code",
      "metadata": {
        "id": "kNxgGGUIt9j3"
      },
      "source": [
        "class NumberArray():\n",
        "  \"\"\"\n",
        "  It contain all the methods used in this project.\n",
        "\n",
        "  Methods:\n",
        "  - create_dataset => Method for creating dataset\n",
        "  - label_dataset => Method for labeling the dataset\n",
        "  - label_sample => Method returns the sample of the provided sample\n",
        "  \"\"\"\n",
        "\n",
        "  def __init__(self, n, k):\n",
        "    \"\"\"\n",
        "    Constructor of the class. Maps the provided arguments to respective\n",
        "    attributes. \n",
        "    \"\"\"\n",
        "    \n",
        "    self.n = n\n",
        "    self.k = k\n",
        "\n",
        "  def create_dataset(self):\n",
        "    \"\"\"\n",
        "    Uses n and k class parameters and create an array with all possible \n",
        "    combinations with repetition. It converts this array into a pandas dataframe \n",
        "    for dealing with data in easy and better way.\n",
        "\n",
        "    Dataframe containing all data is return when this method is called. \n",
        "    \"\"\"\n",
        "\n",
        "    arr = [i for i in range(1, self.n + 1)]\n",
        "    all_combinations = np.array(list(itertools.product(arr, repeat = self.k)))\n",
        "    self.dataset = pd.DataFrame(all_combinations, columns=range(1, self.k + 1))\n",
        "    return self.dataset\n",
        "\n",
        "  def create_random_sample_dataset(self, no_of_samples = 1000):\n",
        "    \"\"\"\n",
        "    This method creates create random samples of the permutation. It takes no_of_samples\n",
        "    in argument and create a dataset with that number of random samples. Default no_of_samples \n",
        "    is set to 1000.\n",
        "    \"\"\"\n",
        "    \n",
        "    arr = [i for i in range(1, self.n + 1)]\n",
        "    combinations = set()\n",
        "    temp = len(combinations)\n",
        "    working_fine = no_of_samples\n",
        "\n",
        "    for10 = self.n\n",
        "    while for10 >= 0.6 * self.n :\n",
        "        arr10 = [random.choice([1,2]) for i in range(2,self.k+1)] + [for10]\n",
        "        for i in range(25):\n",
        "          combinations.add(tuple(np.random.choice(arr10, self.k, replace=False)))\n",
        "          combinations.add(tuple(np.random.choice([1 for i in range(1, self.k+1)], self.k, replace=False)))\n",
        "        for10 -= 1\n",
        "\n",
        "    while len(combinations) != no_of_samples and working_fine:\n",
        "      combinations.add(tuple(np.random.choice(arr, self.k)))\n",
        "      \n",
        "      if len(combinations) == temp:\n",
        "        working_fine -= 1\n",
        "      else:\n",
        "        temp = len(combinations)\n",
        "        working_fine = no_of_samples\n",
        "\n",
        "    if not working_fine:\n",
        "      print(f\"{no_of_samples} samples are not possible. Max permutation for our case are {len(combinations)}\")\n",
        "\n",
        "    print(combinations)\n",
        "    combinations_tuple = tuple(combinations)\n",
        "    self.dataset = pd.DataFrame(combinations_tuple, columns=range(1, self.k + 1))\n",
        "    return self.dataset\n",
        "\n",
        "  def label_dataset(self):\n",
        "    \"\"\"\n",
        "    It creates a labeled dataset. Copies the dataset so that changes doesnot \n",
        "    effect original dataset. Create a new column for output labels and returns\n",
        "    the dataset with labels.\n",
        "    \"\"\"\n",
        "    \n",
        "    self.labeled_dataset = self.dataset.copy()\n",
        "    self.labeled_dataset['unique'] = self.labeled_dataset.apply(\n",
        "        lambda sample: self.unique(sample.values), axis=1\n",
        "        )\n",
        "    self.labeled_dataset['difference_max'] = self.labeled_dataset.apply(\n",
        "        lambda sample: self.difference_max(sample.values), axis=1\n",
        "        )\n",
        "    self.labeled_dataset['difference_last'] = self.labeled_dataset.apply(\n",
        "        lambda sample: self.difference_last(sample.values), axis=1\n",
        "        )\n",
        "    self.labeled_dataset['output'] = self.labeled_dataset.apply(\n",
        "        lambda sample: self.label_sample(sample), axis=1\n",
        "        )\n",
        "    return self.labeled_dataset\n",
        "  \n",
        "  def unique(self, sample):\n",
        "    \"\"\"\n",
        "    Method to return unique value for creating a new feature of the dataset\n",
        "    \"\"\"\n",
        "    sample = sample[:self.k]\n",
        "    unique = len(list(np.unique(sample)))\n",
        "    return unique\n",
        "\n",
        "  def difference_max(self, sample):\n",
        "    \"\"\"\n",
        "    Method to return difference between maximum and minimum value of the sample for creating a new feature of the dataset\n",
        "    \"\"\"\n",
        "    sample = sample[:self.k]\n",
        "    unique = list(np.unique(sample))\n",
        "    return max(unique) - min(unique)\n",
        "  \n",
        "  def difference_last(self, sample):\n",
        "    \"\"\"\n",
        "    Method to return difference between maximum and second largest value of the sample for creating a new feature of the dataset\n",
        "    \"\"\"\n",
        "    \n",
        "    sample = sample[:self.k]\n",
        "    unique = sorted(list(np.unique(sample)))\n",
        "    new_unique = sorted(list(np.unique(np.array(sorted(list(sample))[:-1]))))\n",
        "    return max(unique) - max(new_unique)\n",
        "  \n",
        "  def label_sample(self, sample):\n",
        "    \"\"\"\n",
        "    Return labels of each sample provided.\n",
        "    \"\"\"\n",
        "    \n",
        "    sample_value = sample.values\n",
        "    sample_value = sample_value[:self.k]\n",
        "    unique = list(np.unique(sample_value))\n",
        "    if sorted(unique) == list(range(min(unique), max(unique) + 1)):\n",
        "      if len(unique) <= 0.6 * self.k:\n",
        "        return 30\n",
        "      return 20\n",
        "    else:\n",
        "      new_sample_value = list(sorted(sample_value)[:-1])\n",
        "      new_unique = list(np.unique(new_sample_value))\n",
        "      if sorted(new_unique) == list(range(min(new_unique), max(new_unique) + 1)):\n",
        "        if max(unique) - max(new_unique) >= 0.70 * self.n:\n",
        "          if len(unique) <= 0.6 * self.k:\n",
        "            return 10\n",
        "      return 20\n",
        "  \n",
        "  def train_model(self, test_size = 0.3 ):\n",
        "    \"\"\"\n",
        "    Method for training a Naive Bayes Model and predict the output using provided features.\n",
        "    \n",
        "    It returns a dataframe with all the features, i.e, engineered features, input features, output label and predicted label.\n",
        "    \"\"\"\n",
        "    \n",
        "    labeled_dataset_copied = self.labeled_dataset.copy()\n",
        "    X = labeled_dataset_copied.drop([\"output\"], axis=1).values\n",
        "    y = self.labeled_dataset[\"output\"].values\n",
        "\n",
        "    oversample =SMOTE(k_neighbors=2)\n",
        "    X, y = oversample.fit_resample(X, y)\n",
        "\n",
        "    X_train, X_test, y_train, y_test = train_test_split(X, y, test_size=test_size, random_state=0)\n",
        "    \n",
        "    #self.guassian_nb = GaussianNB()\n",
        "    #self.guassian_nb.fit(X_train, y_train)\n",
        "    #y_pred = self.guassian_nb.predict(X_test)\n",
        "    \n",
        "    #self.clf = RandomForestClassifier(max_depth=2, random_state=0)\n",
        "    self.clf = RandomForestClassifier(random_state=0)   \n",
        "    self.clf.fit(X_train, y_train)\n",
        "    y_pred = self.clf.predict(X_test)\n",
        "\n",
        "    print(\"Number of mislabeled points out of a total %d points : %d\" % (X_test.shape[0], (y_test != y_pred).sum()))\n",
        "\n",
        "    print('\\033[1m'+\"Accuracy of the Output is: \" +'\\033[91m'+ str(accuracy_score(y_test, y_pred)*100) + \"%\"+\"\\033[0;0m\")\n",
        "\n",
        "    columns = [i for i in range(1, self.k + 1)] + [\"unique\", \"difference_max\", \"difference_last\"]\n",
        "    \n",
        "    self.predicted_dataset = pd.DataFrame(X_test, columns=columns)\n",
        "    self.predicted_dataset[\"Original Output\"] = y_test\n",
        "    self.predicted_dataset[\"Predicted Output\"] = y_pred\n",
        "    \n",
        "    return self.predicted_dataset\n",
        "\n",
        "  def predict_sample(self, sample):\n",
        "    \"\"\"\n",
        "    Method for predicting a single sample of the dataset.\n",
        "    \"\"\"\n",
        "    \n",
        "    unique = self.unique(np.array(sample))\n",
        "    difference_max = self.difference_max(np.array(sample))\n",
        "    difference_last = self.difference_last(np.array(sample))\n",
        "\n",
        "    sample.append(unique)\n",
        "    sample.append(difference_max)\n",
        "    sample.append(difference_last)\n",
        "\n",
        "    pred_sample = np.array([sample])\n",
        "    prediction = self.clf.predict(pred_sample)\n",
        "    return prediction\n",
        "\n",
        "  def export_dataset(self):\n",
        "    \"\"\"\n",
        "    Exports dataset as .csv file\n",
        "    \"\"\"\n",
        "    \n",
        "    self.labeled_dataset.to_csv(\"number_array_dataset.csv\",index=False)"
      ],
      "execution_count": null,
      "outputs": []
    },
    {
      "cell_type": "markdown",
      "metadata": {
        "id": "n5HJOJgL6ftp"
      },
      "source": [
        "#### Make object of class"
      ]
    },
    {
      "cell_type": "markdown",
      "metadata": {
        "id": "qGek-DBqgdOr"
      },
      "source": [
        "This line of code creates an Object of the class and all methods are present in that class."
      ]
    },
    {
      "cell_type": "code",
      "metadata": {
        "id": "y5FF3ZjwvsPH"
      },
      "source": [
        "# NumberArray ( n, k )\n",
        "# First argument is N ( Maximum number in the Array ) and second argument is K ( Length of the array ).\n",
        "\n",
        "number_array = NumberArray(10, 10)"
      ],
      "execution_count": null,
      "outputs": []
    },
    {
      "cell_type": "markdown",
      "metadata": {
        "id": "dgznWnHK6ltD"
      },
      "source": [
        "#### Create dataset using create_dataset() method"
      ]
    },
    {
      "cell_type": "markdown",
      "metadata": {
        "id": "OQmsLHc58oes"
      },
      "source": [
        "We discourage using this method as there may be very large amount of permutations and you may get memory error due to memory constraints.\n",
        "\n",
        "Use create_random_sample_dataset(no_of_sample) instead. It takes no of samples as argument and create dataset."
      ]
    },
    {
      "cell_type": "code",
      "metadata": {
        "id": "WAqFlDEtvycs"
      },
      "source": [
        "#number_array.create_dataset()"
      ],
      "execution_count": null,
      "outputs": []
    },
    {
      "cell_type": "markdown",
      "metadata": {
        "id": "Po_s6A2i2SxV"
      },
      "source": [
        "\n",
        "### Create Dataset with Random Samples of the permutation"
      ]
    },
    {
      "cell_type": "code",
      "metadata": {
        "colab": {
          "base_uri": "https://localhost:8080/",
          "height": 607
        },
        "id": "thpsqlb32Zx1",
        "outputId": "0cdae641-cacd-4280-f331-8b4a0efc4c73"
      },
      "source": [
        "number_array.create_random_sample_dataset(100000)"
      ],
      "execution_count": null,
      "outputs": [
        {
          "output_type": "stream",
          "name": "stderr",
          "text": [
            "IOPub data rate exceeded.\n",
            "The notebook server will temporarily stop sending output\n",
            "to the client in order to avoid crashing it.\n",
            "To change this limit, set the config variable\n",
            "`--NotebookApp.iopub_data_rate_limit`.\n",
            "\n",
            "Current values:\n",
            "NotebookApp.iopub_data_rate_limit=1000000.0 (bytes/sec)\n",
            "NotebookApp.rate_limit_window=3.0 (secs)\n",
            "\n"
          ]
        },
        {
          "output_type": "execute_result",
          "data": {
            "text/html": [
              "<div>\n",
              "<style scoped>\n",
              "    .dataframe tbody tr th:only-of-type {\n",
              "        vertical-align: middle;\n",
              "    }\n",
              "\n",
              "    .dataframe tbody tr th {\n",
              "        vertical-align: top;\n",
              "    }\n",
              "\n",
              "    .dataframe thead th {\n",
              "        text-align: right;\n",
              "    }\n",
              "</style>\n",
              "<table border=\"1\" class=\"dataframe\">\n",
              "  <thead>\n",
              "    <tr style=\"text-align: right;\">\n",
              "      <th></th>\n",
              "      <th>1</th>\n",
              "      <th>2</th>\n",
              "      <th>3</th>\n",
              "      <th>4</th>\n",
              "      <th>5</th>\n",
              "      <th>6</th>\n",
              "      <th>7</th>\n",
              "      <th>8</th>\n",
              "      <th>9</th>\n",
              "      <th>10</th>\n",
              "    </tr>\n",
              "  </thead>\n",
              "  <tbody>\n",
              "    <tr>\n",
              "      <th>0</th>\n",
              "      <td>7</td>\n",
              "      <td>9</td>\n",
              "      <td>9</td>\n",
              "      <td>2</td>\n",
              "      <td>5</td>\n",
              "      <td>8</td>\n",
              "      <td>3</td>\n",
              "      <td>1</td>\n",
              "      <td>8</td>\n",
              "      <td>7</td>\n",
              "    </tr>\n",
              "    <tr>\n",
              "      <th>1</th>\n",
              "      <td>8</td>\n",
              "      <td>4</td>\n",
              "      <td>7</td>\n",
              "      <td>5</td>\n",
              "      <td>5</td>\n",
              "      <td>1</td>\n",
              "      <td>6</td>\n",
              "      <td>10</td>\n",
              "      <td>5</td>\n",
              "      <td>1</td>\n",
              "    </tr>\n",
              "    <tr>\n",
              "      <th>2</th>\n",
              "      <td>3</td>\n",
              "      <td>2</td>\n",
              "      <td>2</td>\n",
              "      <td>7</td>\n",
              "      <td>6</td>\n",
              "      <td>9</td>\n",
              "      <td>3</td>\n",
              "      <td>6</td>\n",
              "      <td>8</td>\n",
              "      <td>2</td>\n",
              "    </tr>\n",
              "    <tr>\n",
              "      <th>3</th>\n",
              "      <td>5</td>\n",
              "      <td>7</td>\n",
              "      <td>5</td>\n",
              "      <td>2</td>\n",
              "      <td>5</td>\n",
              "      <td>2</td>\n",
              "      <td>2</td>\n",
              "      <td>7</td>\n",
              "      <td>7</td>\n",
              "      <td>2</td>\n",
              "    </tr>\n",
              "    <tr>\n",
              "      <th>4</th>\n",
              "      <td>1</td>\n",
              "      <td>5</td>\n",
              "      <td>7</td>\n",
              "      <td>10</td>\n",
              "      <td>5</td>\n",
              "      <td>10</td>\n",
              "      <td>4</td>\n",
              "      <td>6</td>\n",
              "      <td>5</td>\n",
              "      <td>4</td>\n",
              "    </tr>\n",
              "    <tr>\n",
              "      <th>...</th>\n",
              "      <td>...</td>\n",
              "      <td>...</td>\n",
              "      <td>...</td>\n",
              "      <td>...</td>\n",
              "      <td>...</td>\n",
              "      <td>...</td>\n",
              "      <td>...</td>\n",
              "      <td>...</td>\n",
              "      <td>...</td>\n",
              "      <td>...</td>\n",
              "    </tr>\n",
              "    <tr>\n",
              "      <th>99995</th>\n",
              "      <td>5</td>\n",
              "      <td>2</td>\n",
              "      <td>1</td>\n",
              "      <td>2</td>\n",
              "      <td>7</td>\n",
              "      <td>9</td>\n",
              "      <td>10</td>\n",
              "      <td>5</td>\n",
              "      <td>2</td>\n",
              "      <td>5</td>\n",
              "    </tr>\n",
              "    <tr>\n",
              "      <th>99996</th>\n",
              "      <td>4</td>\n",
              "      <td>10</td>\n",
              "      <td>4</td>\n",
              "      <td>7</td>\n",
              "      <td>6</td>\n",
              "      <td>8</td>\n",
              "      <td>4</td>\n",
              "      <td>5</td>\n",
              "      <td>2</td>\n",
              "      <td>9</td>\n",
              "    </tr>\n",
              "    <tr>\n",
              "      <th>99997</th>\n",
              "      <td>9</td>\n",
              "      <td>3</td>\n",
              "      <td>10</td>\n",
              "      <td>9</td>\n",
              "      <td>8</td>\n",
              "      <td>3</td>\n",
              "      <td>10</td>\n",
              "      <td>2</td>\n",
              "      <td>10</td>\n",
              "      <td>8</td>\n",
              "    </tr>\n",
              "    <tr>\n",
              "      <th>99998</th>\n",
              "      <td>10</td>\n",
              "      <td>1</td>\n",
              "      <td>5</td>\n",
              "      <td>1</td>\n",
              "      <td>2</td>\n",
              "      <td>2</td>\n",
              "      <td>1</td>\n",
              "      <td>5</td>\n",
              "      <td>4</td>\n",
              "      <td>8</td>\n",
              "    </tr>\n",
              "    <tr>\n",
              "      <th>99999</th>\n",
              "      <td>9</td>\n",
              "      <td>9</td>\n",
              "      <td>1</td>\n",
              "      <td>6</td>\n",
              "      <td>5</td>\n",
              "      <td>6</td>\n",
              "      <td>9</td>\n",
              "      <td>10</td>\n",
              "      <td>8</td>\n",
              "      <td>3</td>\n",
              "    </tr>\n",
              "  </tbody>\n",
              "</table>\n",
              "<p>100000 rows × 10 columns</p>\n",
              "</div>"
            ],
            "text/plain": [
              "       1   2   3   4   5   6   7   8   9   10\n",
              "0       7   9   9   2   5   8   3   1   8   7\n",
              "1       8   4   7   5   5   1   6  10   5   1\n",
              "2       3   2   2   7   6   9   3   6   8   2\n",
              "3       5   7   5   2   5   2   2   7   7   2\n",
              "4       1   5   7  10   5  10   4   6   5   4\n",
              "...    ..  ..  ..  ..  ..  ..  ..  ..  ..  ..\n",
              "99995   5   2   1   2   7   9  10   5   2   5\n",
              "99996   4  10   4   7   6   8   4   5   2   9\n",
              "99997   9   3  10   9   8   3  10   2  10   8\n",
              "99998  10   1   5   1   2   2   1   5   4   8\n",
              "99999   9   9   1   6   5   6   9  10   8   3\n",
              "\n",
              "[100000 rows x 10 columns]"
            ]
          },
          "metadata": {},
          "execution_count": 52
        }
      ]
    },
    {
      "cell_type": "markdown",
      "metadata": {
        "id": "x_xdacsj6xDf"
      },
      "source": [
        "#### Label dataset and create new features using feature engineering "
      ]
    },
    {
      "cell_type": "code",
      "metadata": {
        "id": "Cfj3mXrDx8u4"
      },
      "source": [
        "label_df = number_array.label_dataset()"
      ],
      "execution_count": null,
      "outputs": []
    },
    {
      "cell_type": "code",
      "metadata": {
        "colab": {
          "base_uri": "https://localhost:8080/",
          "height": 424
        },
        "id": "Uz5YOHJwybKe",
        "outputId": "3e36b3b2-b285-44f7-d500-a5aeb6d272ab"
      },
      "source": [
        "label_df"
      ],
      "execution_count": null,
      "outputs": [
        {
          "output_type": "execute_result",
          "data": {
            "text/html": [
              "<div>\n",
              "<style scoped>\n",
              "    .dataframe tbody tr th:only-of-type {\n",
              "        vertical-align: middle;\n",
              "    }\n",
              "\n",
              "    .dataframe tbody tr th {\n",
              "        vertical-align: top;\n",
              "    }\n",
              "\n",
              "    .dataframe thead th {\n",
              "        text-align: right;\n",
              "    }\n",
              "</style>\n",
              "<table border=\"1\" class=\"dataframe\">\n",
              "  <thead>\n",
              "    <tr style=\"text-align: right;\">\n",
              "      <th></th>\n",
              "      <th>1</th>\n",
              "      <th>2</th>\n",
              "      <th>3</th>\n",
              "      <th>4</th>\n",
              "      <th>5</th>\n",
              "      <th>6</th>\n",
              "      <th>7</th>\n",
              "      <th>8</th>\n",
              "      <th>9</th>\n",
              "      <th>10</th>\n",
              "      <th>unique</th>\n",
              "      <th>difference_max</th>\n",
              "      <th>difference_last</th>\n",
              "      <th>output</th>\n",
              "    </tr>\n",
              "  </thead>\n",
              "  <tbody>\n",
              "    <tr>\n",
              "      <th>0</th>\n",
              "      <td>7</td>\n",
              "      <td>9</td>\n",
              "      <td>9</td>\n",
              "      <td>2</td>\n",
              "      <td>5</td>\n",
              "      <td>8</td>\n",
              "      <td>3</td>\n",
              "      <td>1</td>\n",
              "      <td>8</td>\n",
              "      <td>7</td>\n",
              "      <td>7</td>\n",
              "      <td>8</td>\n",
              "      <td>0</td>\n",
              "      <td>20</td>\n",
              "    </tr>\n",
              "    <tr>\n",
              "      <th>1</th>\n",
              "      <td>8</td>\n",
              "      <td>4</td>\n",
              "      <td>7</td>\n",
              "      <td>5</td>\n",
              "      <td>5</td>\n",
              "      <td>1</td>\n",
              "      <td>6</td>\n",
              "      <td>10</td>\n",
              "      <td>5</td>\n",
              "      <td>1</td>\n",
              "      <td>7</td>\n",
              "      <td>9</td>\n",
              "      <td>2</td>\n",
              "      <td>20</td>\n",
              "    </tr>\n",
              "    <tr>\n",
              "      <th>2</th>\n",
              "      <td>3</td>\n",
              "      <td>2</td>\n",
              "      <td>2</td>\n",
              "      <td>7</td>\n",
              "      <td>6</td>\n",
              "      <td>9</td>\n",
              "      <td>3</td>\n",
              "      <td>6</td>\n",
              "      <td>8</td>\n",
              "      <td>2</td>\n",
              "      <td>6</td>\n",
              "      <td>7</td>\n",
              "      <td>1</td>\n",
              "      <td>20</td>\n",
              "    </tr>\n",
              "    <tr>\n",
              "      <th>3</th>\n",
              "      <td>5</td>\n",
              "      <td>7</td>\n",
              "      <td>5</td>\n",
              "      <td>2</td>\n",
              "      <td>5</td>\n",
              "      <td>2</td>\n",
              "      <td>2</td>\n",
              "      <td>7</td>\n",
              "      <td>7</td>\n",
              "      <td>2</td>\n",
              "      <td>3</td>\n",
              "      <td>5</td>\n",
              "      <td>0</td>\n",
              "      <td>20</td>\n",
              "    </tr>\n",
              "    <tr>\n",
              "      <th>4</th>\n",
              "      <td>1</td>\n",
              "      <td>5</td>\n",
              "      <td>7</td>\n",
              "      <td>10</td>\n",
              "      <td>5</td>\n",
              "      <td>10</td>\n",
              "      <td>4</td>\n",
              "      <td>6</td>\n",
              "      <td>5</td>\n",
              "      <td>4</td>\n",
              "      <td>6</td>\n",
              "      <td>9</td>\n",
              "      <td>0</td>\n",
              "      <td>20</td>\n",
              "    </tr>\n",
              "    <tr>\n",
              "      <th>...</th>\n",
              "      <td>...</td>\n",
              "      <td>...</td>\n",
              "      <td>...</td>\n",
              "      <td>...</td>\n",
              "      <td>...</td>\n",
              "      <td>...</td>\n",
              "      <td>...</td>\n",
              "      <td>...</td>\n",
              "      <td>...</td>\n",
              "      <td>...</td>\n",
              "      <td>...</td>\n",
              "      <td>...</td>\n",
              "      <td>...</td>\n",
              "      <td>...</td>\n",
              "    </tr>\n",
              "    <tr>\n",
              "      <th>99995</th>\n",
              "      <td>5</td>\n",
              "      <td>2</td>\n",
              "      <td>1</td>\n",
              "      <td>2</td>\n",
              "      <td>7</td>\n",
              "      <td>9</td>\n",
              "      <td>10</td>\n",
              "      <td>5</td>\n",
              "      <td>2</td>\n",
              "      <td>5</td>\n",
              "      <td>6</td>\n",
              "      <td>9</td>\n",
              "      <td>1</td>\n",
              "      <td>20</td>\n",
              "    </tr>\n",
              "    <tr>\n",
              "      <th>99996</th>\n",
              "      <td>4</td>\n",
              "      <td>10</td>\n",
              "      <td>4</td>\n",
              "      <td>7</td>\n",
              "      <td>6</td>\n",
              "      <td>8</td>\n",
              "      <td>4</td>\n",
              "      <td>5</td>\n",
              "      <td>2</td>\n",
              "      <td>9</td>\n",
              "      <td>8</td>\n",
              "      <td>8</td>\n",
              "      <td>1</td>\n",
              "      <td>20</td>\n",
              "    </tr>\n",
              "    <tr>\n",
              "      <th>99997</th>\n",
              "      <td>9</td>\n",
              "      <td>3</td>\n",
              "      <td>10</td>\n",
              "      <td>9</td>\n",
              "      <td>8</td>\n",
              "      <td>3</td>\n",
              "      <td>10</td>\n",
              "      <td>2</td>\n",
              "      <td>10</td>\n",
              "      <td>8</td>\n",
              "      <td>5</td>\n",
              "      <td>8</td>\n",
              "      <td>0</td>\n",
              "      <td>20</td>\n",
              "    </tr>\n",
              "    <tr>\n",
              "      <th>99998</th>\n",
              "      <td>10</td>\n",
              "      <td>1</td>\n",
              "      <td>5</td>\n",
              "      <td>1</td>\n",
              "      <td>2</td>\n",
              "      <td>2</td>\n",
              "      <td>1</td>\n",
              "      <td>5</td>\n",
              "      <td>4</td>\n",
              "      <td>8</td>\n",
              "      <td>6</td>\n",
              "      <td>9</td>\n",
              "      <td>2</td>\n",
              "      <td>20</td>\n",
              "    </tr>\n",
              "    <tr>\n",
              "      <th>99999</th>\n",
              "      <td>9</td>\n",
              "      <td>9</td>\n",
              "      <td>1</td>\n",
              "      <td>6</td>\n",
              "      <td>5</td>\n",
              "      <td>6</td>\n",
              "      <td>9</td>\n",
              "      <td>10</td>\n",
              "      <td>8</td>\n",
              "      <td>3</td>\n",
              "      <td>7</td>\n",
              "      <td>9</td>\n",
              "      <td>1</td>\n",
              "      <td>20</td>\n",
              "    </tr>\n",
              "  </tbody>\n",
              "</table>\n",
              "<p>100000 rows × 14 columns</p>\n",
              "</div>"
            ],
            "text/plain": [
              "        1   2   3   4  5  ...  10  unique  difference_max  difference_last  output\n",
              "0       7   9   9   2  5  ...   7       7               8                0      20\n",
              "1       8   4   7   5  5  ...   1       7               9                2      20\n",
              "2       3   2   2   7  6  ...   2       6               7                1      20\n",
              "3       5   7   5   2  5  ...   2       3               5                0      20\n",
              "4       1   5   7  10  5  ...   4       6               9                0      20\n",
              "...    ..  ..  ..  .. ..  ...  ..     ...             ...              ...     ...\n",
              "99995   5   2   1   2  7  ...   5       6               9                1      20\n",
              "99996   4  10   4   7  6  ...   9       8               8                1      20\n",
              "99997   9   3  10   9  8  ...   8       5               8                0      20\n",
              "99998  10   1   5   1  2  ...   8       6               9                2      20\n",
              "99999   9   9   1   6  5  ...   3       7               9                1      20\n",
              "\n",
              "[100000 rows x 14 columns]"
            ]
          },
          "metadata": {},
          "execution_count": 54
        }
      ]
    },
    {
      "cell_type": "code",
      "metadata": {
        "colab": {
          "base_uri": "https://localhost:8080/"
        },
        "id": "KEV__gnRxi6y",
        "outputId": "b2fc5e4b-be2c-431d-f5f0-028aa75cd46b"
      },
      "source": [
        "print(\"Occurence of 10 => \",label_df[label_df['output'] == 10].shape[0])\n",
        "print(\"Occurence of 20 => \",label_df[label_df['output'] == 20].shape[0])\n",
        "print(\"Occurence of 30 => \",label_df[label_df['output'] == 30].shape[0])"
      ],
      "execution_count": null,
      "outputs": [
        {
          "output_type": "stream",
          "name": "stdout",
          "text": [
            "Occurence of 10 =>  51\n",
            "Occurence of 20 =>  98733\n",
            "Occurence of 30 =>  1216\n"
          ]
        }
      ]
    },
    {
      "cell_type": "markdown",
      "metadata": {
        "id": "pZnCH07CoeHj"
      },
      "source": [
        "### Train Model"
      ]
    },
    {
      "cell_type": "code",
      "metadata": {
        "colab": {
          "base_uri": "https://localhost:8080/"
        },
        "id": "q9Plwi_Wogk7",
        "outputId": "37d2203e-f752-455d-f884-417874e46b30"
      },
      "source": [
        "df = number_array.train_model(test_size=0.3)"
      ],
      "execution_count": null,
      "outputs": [
        {
          "output_type": "stream",
          "name": "stderr",
          "text": [
            "/usr/local/lib/python3.7/dist-packages/sklearn/utils/deprecation.py:87: FutureWarning: Function safe_indexing is deprecated; safe_indexing is deprecated in version 0.22 and will be removed in version 0.24.\n",
            "  warnings.warn(msg, category=FutureWarning)\n",
            "/usr/local/lib/python3.7/dist-packages/sklearn/utils/deprecation.py:87: FutureWarning: Function safe_indexing is deprecated; safe_indexing is deprecated in version 0.22 and will be removed in version 0.24.\n",
            "  warnings.warn(msg, category=FutureWarning)\n"
          ]
        },
        {
          "output_type": "stream",
          "name": "stdout",
          "text": [
            "Number of mislabeled points out of a total 88860 points : 4\n",
            "\u001b[1mAccuracy of the Output is: \u001b[91m99.99549853702453%\u001b[0;0m\n"
          ]
        }
      ]
    },
    {
      "cell_type": "code",
      "metadata": {
        "colab": {
          "base_uri": "https://localhost:8080/",
          "height": 424
        },
        "id": "-NvQn6WF0grM",
        "outputId": "b0b513d6-c162-4a47-c7c1-a05b8bcba83a"
      },
      "source": [
        "df"
      ],
      "execution_count": null,
      "outputs": [
        {
          "output_type": "execute_result",
          "data": {
            "text/html": [
              "<div>\n",
              "<style scoped>\n",
              "    .dataframe tbody tr th:only-of-type {\n",
              "        vertical-align: middle;\n",
              "    }\n",
              "\n",
              "    .dataframe tbody tr th {\n",
              "        vertical-align: top;\n",
              "    }\n",
              "\n",
              "    .dataframe thead th {\n",
              "        text-align: right;\n",
              "    }\n",
              "</style>\n",
              "<table border=\"1\" class=\"dataframe\">\n",
              "  <thead>\n",
              "    <tr style=\"text-align: right;\">\n",
              "      <th></th>\n",
              "      <th>1</th>\n",
              "      <th>2</th>\n",
              "      <th>3</th>\n",
              "      <th>4</th>\n",
              "      <th>5</th>\n",
              "      <th>6</th>\n",
              "      <th>7</th>\n",
              "      <th>8</th>\n",
              "      <th>9</th>\n",
              "      <th>10</th>\n",
              "      <th>unique</th>\n",
              "      <th>difference_max</th>\n",
              "      <th>difference_last</th>\n",
              "      <th>Original Output</th>\n",
              "      <th>Predicted Output</th>\n",
              "    </tr>\n",
              "  </thead>\n",
              "  <tbody>\n",
              "    <tr>\n",
              "      <th>0</th>\n",
              "      <td>6</td>\n",
              "      <td>2</td>\n",
              "      <td>6</td>\n",
              "      <td>4</td>\n",
              "      <td>2</td>\n",
              "      <td>3</td>\n",
              "      <td>4</td>\n",
              "      <td>5</td>\n",
              "      <td>7</td>\n",
              "      <td>4</td>\n",
              "      <td>6</td>\n",
              "      <td>5</td>\n",
              "      <td>0</td>\n",
              "      <td>30</td>\n",
              "      <td>30</td>\n",
              "    </tr>\n",
              "    <tr>\n",
              "      <th>1</th>\n",
              "      <td>10</td>\n",
              "      <td>6</td>\n",
              "      <td>2</td>\n",
              "      <td>7</td>\n",
              "      <td>6</td>\n",
              "      <td>8</td>\n",
              "      <td>1</td>\n",
              "      <td>9</td>\n",
              "      <td>4</td>\n",
              "      <td>7</td>\n",
              "      <td>8</td>\n",
              "      <td>9</td>\n",
              "      <td>1</td>\n",
              "      <td>20</td>\n",
              "      <td>20</td>\n",
              "    </tr>\n",
              "    <tr>\n",
              "      <th>2</th>\n",
              "      <td>2</td>\n",
              "      <td>1</td>\n",
              "      <td>1</td>\n",
              "      <td>1</td>\n",
              "      <td>1</td>\n",
              "      <td>1</td>\n",
              "      <td>1</td>\n",
              "      <td>1</td>\n",
              "      <td>9</td>\n",
              "      <td>1</td>\n",
              "      <td>3</td>\n",
              "      <td>8</td>\n",
              "      <td>7</td>\n",
              "      <td>10</td>\n",
              "      <td>10</td>\n",
              "    </tr>\n",
              "    <tr>\n",
              "      <th>3</th>\n",
              "      <td>9</td>\n",
              "      <td>2</td>\n",
              "      <td>1</td>\n",
              "      <td>1</td>\n",
              "      <td>1</td>\n",
              "      <td>1</td>\n",
              "      <td>1</td>\n",
              "      <td>1</td>\n",
              "      <td>1</td>\n",
              "      <td>1</td>\n",
              "      <td>3</td>\n",
              "      <td>8</td>\n",
              "      <td>7</td>\n",
              "      <td>10</td>\n",
              "      <td>10</td>\n",
              "    </tr>\n",
              "    <tr>\n",
              "      <th>4</th>\n",
              "      <td>1</td>\n",
              "      <td>1</td>\n",
              "      <td>1</td>\n",
              "      <td>2</td>\n",
              "      <td>2</td>\n",
              "      <td>2</td>\n",
              "      <td>1</td>\n",
              "      <td>10</td>\n",
              "      <td>2</td>\n",
              "      <td>1</td>\n",
              "      <td>3</td>\n",
              "      <td>9</td>\n",
              "      <td>8</td>\n",
              "      <td>10</td>\n",
              "      <td>10</td>\n",
              "    </tr>\n",
              "    <tr>\n",
              "      <th>...</th>\n",
              "      <td>...</td>\n",
              "      <td>...</td>\n",
              "      <td>...</td>\n",
              "      <td>...</td>\n",
              "      <td>...</td>\n",
              "      <td>...</td>\n",
              "      <td>...</td>\n",
              "      <td>...</td>\n",
              "      <td>...</td>\n",
              "      <td>...</td>\n",
              "      <td>...</td>\n",
              "      <td>...</td>\n",
              "      <td>...</td>\n",
              "      <td>...</td>\n",
              "      <td>...</td>\n",
              "    </tr>\n",
              "    <tr>\n",
              "      <th>88855</th>\n",
              "      <td>6</td>\n",
              "      <td>5</td>\n",
              "      <td>5</td>\n",
              "      <td>6</td>\n",
              "      <td>3</td>\n",
              "      <td>3</td>\n",
              "      <td>4</td>\n",
              "      <td>3</td>\n",
              "      <td>4</td>\n",
              "      <td>3</td>\n",
              "      <td>4</td>\n",
              "      <td>3</td>\n",
              "      <td>1</td>\n",
              "      <td>30</td>\n",
              "      <td>30</td>\n",
              "    </tr>\n",
              "    <tr>\n",
              "      <th>88856</th>\n",
              "      <td>6</td>\n",
              "      <td>3</td>\n",
              "      <td>4</td>\n",
              "      <td>3</td>\n",
              "      <td>5</td>\n",
              "      <td>7</td>\n",
              "      <td>5</td>\n",
              "      <td>4</td>\n",
              "      <td>5</td>\n",
              "      <td>7</td>\n",
              "      <td>5</td>\n",
              "      <td>4</td>\n",
              "      <td>0</td>\n",
              "      <td>30</td>\n",
              "      <td>30</td>\n",
              "    </tr>\n",
              "    <tr>\n",
              "      <th>88857</th>\n",
              "      <td>5</td>\n",
              "      <td>7</td>\n",
              "      <td>7</td>\n",
              "      <td>5</td>\n",
              "      <td>6</td>\n",
              "      <td>4</td>\n",
              "      <td>4</td>\n",
              "      <td>5</td>\n",
              "      <td>6</td>\n",
              "      <td>3</td>\n",
              "      <td>6</td>\n",
              "      <td>5</td>\n",
              "      <td>1</td>\n",
              "      <td>30</td>\n",
              "      <td>30</td>\n",
              "    </tr>\n",
              "    <tr>\n",
              "      <th>88858</th>\n",
              "      <td>10</td>\n",
              "      <td>8</td>\n",
              "      <td>7</td>\n",
              "      <td>7</td>\n",
              "      <td>9</td>\n",
              "      <td>3</td>\n",
              "      <td>1</td>\n",
              "      <td>9</td>\n",
              "      <td>9</td>\n",
              "      <td>10</td>\n",
              "      <td>6</td>\n",
              "      <td>9</td>\n",
              "      <td>0</td>\n",
              "      <td>20</td>\n",
              "      <td>20</td>\n",
              "    </tr>\n",
              "    <tr>\n",
              "      <th>88859</th>\n",
              "      <td>1</td>\n",
              "      <td>10</td>\n",
              "      <td>1</td>\n",
              "      <td>2</td>\n",
              "      <td>2</td>\n",
              "      <td>2</td>\n",
              "      <td>1</td>\n",
              "      <td>1</td>\n",
              "      <td>1</td>\n",
              "      <td>2</td>\n",
              "      <td>3</td>\n",
              "      <td>9</td>\n",
              "      <td>8</td>\n",
              "      <td>10</td>\n",
              "      <td>10</td>\n",
              "    </tr>\n",
              "  </tbody>\n",
              "</table>\n",
              "<p>88860 rows × 15 columns</p>\n",
              "</div>"
            ],
            "text/plain": [
              "        1   2  3  ...  difference_last  Original Output  Predicted Output\n",
              "0       6   2  6  ...                0               30                30\n",
              "1      10   6  2  ...                1               20                20\n",
              "2       2   1  1  ...                7               10                10\n",
              "3       9   2  1  ...                7               10                10\n",
              "4       1   1  1  ...                8               10                10\n",
              "...    ..  .. ..  ...              ...              ...               ...\n",
              "88855   6   5  5  ...                1               30                30\n",
              "88856   6   3  4  ...                0               30                30\n",
              "88857   5   7  7  ...                1               30                30\n",
              "88858  10   8  7  ...                0               20                20\n",
              "88859   1  10  1  ...                8               10                10\n",
              "\n",
              "[88860 rows x 15 columns]"
            ]
          },
          "metadata": {},
          "execution_count": 57
        }
      ]
    },
    {
      "cell_type": "code",
      "metadata": {
        "colab": {
          "base_uri": "https://localhost:8080/"
        },
        "id": "y-YTKKp4w7PK",
        "outputId": "0a433923-b951-4faa-c054-3cfb82b6a476"
      },
      "source": [
        "print(\"Original Occurences\")\n",
        "print(\"Occurence of 10 => \",df[df['Original Output'] == 10].shape[0])\n",
        "print(\"Occurence of 20 => \",df[df['Original Output'] == 20].shape[0])\n",
        "print(\"Occurence of 30 => \",df[df['Original Output'] == 30].shape[0])\n",
        "\n",
        "print(\"\\nY Predict Occurences\")\n",
        "print(\"Occurence of 10 => \",df[df['Predicted Output'] == 10].shape[0])\n",
        "print(\"Occurence of 20 => \",df[df['Predicted Output'] == 20].shape[0])\n",
        "print(\"Occurence of 30 => \",df[df['Predicted Output'] == 30].shape[0])"
      ],
      "execution_count": null,
      "outputs": [
        {
          "output_type": "stream",
          "name": "stdout",
          "text": [
            "Original Occurences\n",
            "Occurence of 10 =>  29711\n",
            "Occurence of 20 =>  29592\n",
            "Occurence of 30 =>  29557\n",
            "\n",
            "Y Predict Occurences\n",
            "Occurence of 10 =>  29711\n",
            "Occurence of 20 =>  29590\n",
            "Occurence of 30 =>  29559\n"
          ]
        }
      ]
    },
    {
      "cell_type": "markdown",
      "metadata": {
        "id": "xPgTrMcJrJ1M"
      },
      "source": [
        "### Predict Sample using model"
      ]
    },
    {
      "cell_type": "markdown",
      "metadata": {
        "id": "-a_5RjpXgdO6"
      },
      "source": [
        "This method could be used for predicting the output of a single sample supplied."
      ]
    },
    {
      "cell_type": "code",
      "metadata": {
        "colab": {
          "base_uri": "https://localhost:8080/"
        },
        "id": "uZYwVH-QrQl5",
        "outputId": "302470e3-f581-4c29-979d-d39b51b7bc9c"
      },
      "source": [
        "number_array.predict_sample([10,1,1,1,1,1,1,1,1,1])"
      ],
      "execution_count": null,
      "outputs": [
        {
          "output_type": "execute_result",
          "data": {
            "text/plain": [
              "array([10])"
            ]
          },
          "metadata": {},
          "execution_count": 59
        }
      ]
    },
    {
      "cell_type": "markdown",
      "metadata": {
        "id": "jOYGAEH4r-YU"
      },
      "source": [
        "#### Export Dataset as .csv file"
      ]
    },
    {
      "cell_type": "markdown",
      "metadata": {
        "id": "b4RhOYPJgdO8"
      },
      "source": [
        "This method exports the dataset as a .csv file"
      ]
    },
    {
      "cell_type": "code",
      "metadata": {
        "id": "2UAMfKZ2pFH_"
      },
      "source": [
        "number_array.export_dataset()"
      ],
      "execution_count": null,
      "outputs": []
    },
    {
      "cell_type": "code",
      "metadata": {
        "id": "DA7j6ISIsF4S"
      },
      "source": [
        ""
      ],
      "execution_count": null,
      "outputs": []
    },
    {
      "cell_type": "code",
      "metadata": {
        "id": "pxtylL5ZdMsz"
      },
      "source": [
        ""
      ],
      "execution_count": null,
      "outputs": []
    },
    {
      "cell_type": "code",
      "metadata": {
        "id": "HjdQmqkCw7V6"
      },
      "source": [
        ""
      ],
      "execution_count": null,
      "outputs": []
    }
  ]
}