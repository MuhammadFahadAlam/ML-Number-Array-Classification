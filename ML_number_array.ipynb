{
 "cells": [
  {
   "cell_type": "markdown",
   "metadata": {
    "id": "ap3VB_dYtDZO"
   },
   "source": [
    "# Number Array Machine Learning Project"
   ]
  },
  {
   "cell_type": "markdown",
   "metadata": {
    "id": "0MeDJl3V6SnR"
   },
   "source": [
    "## Module Imports"
   ]
  },
  {
   "cell_type": "code",
   "execution_count": 1,
   "metadata": {
    "colab": {
     "base_uri": "https://localhost:8080/"
    },
    "id": "AJwHwecACT1Z",
    "outputId": "6c17ae14-e3ed-4624-a223-0919ab79c592"
   },
   "outputs": [
    {
     "name": "stdout",
     "output_type": "stream",
     "text": [
      "Requirement already satisfied: imbalanced-learn in c:\\users\\muhammad fahad alam\\anaconda3\\lib\\site-packages (0.8.1)\n",
      "Requirement already satisfied: scipy>=0.19.1 in c:\\users\\muhammad fahad alam\\anaconda3\\lib\\site-packages (from imbalanced-learn) (1.3.1)\n",
      "Requirement already satisfied: scikit-learn>=0.24 in c:\\users\\muhammad fahad alam\\anaconda3\\lib\\site-packages (from imbalanced-learn) (1.0)\n",
      "Requirement already satisfied: numpy>=1.13.3 in c:\\users\\muhammad fahad alam\\anaconda3\\lib\\site-packages (from imbalanced-learn) (1.16.5)\n",
      "Requirement already satisfied: joblib>=0.11 in c:\\users\\muhammad fahad alam\\anaconda3\\lib\\site-packages (from imbalanced-learn) (0.13.2)\n",
      "Requirement already satisfied: threadpoolctl>=2.0.0 in c:\\users\\muhammad fahad alam\\anaconda3\\lib\\site-packages (from scikit-learn>=0.24->imbalanced-learn) (3.0.0)\n"
     ]
    }
   ],
   "source": [
    "!pip install imbalanced-learn"
   ]
  },
  {
   "cell_type": "code",
   "execution_count": 2,
   "metadata": {
    "colab": {
     "base_uri": "https://localhost:8080/"
    },
    "id": "g8bbjXUoL43f",
    "outputId": "7459d402-f8e4-4e5e-d08b-f86f0a285ed1"
   },
   "outputs": [],
   "source": [
    "import numpy as np\n",
    "import pandas as pd\n",
    "import itertools\n",
    "\n",
    "from imblearn.over_sampling import SMOTE\n",
    "from sklearn.model_selection import train_test_split\n",
    "from sklearn.naive_bayes import GaussianNB"
   ]
  },
  {
   "cell_type": "markdown",
   "metadata": {
    "id": "TJMvwTpU6Wnj"
   },
   "source": [
    "## Class with all Methods"
   ]
  },
  {
   "cell_type": "code",
   "execution_count": 28,
   "metadata": {
    "id": "kNxgGGUIt9j3"
   },
   "outputs": [],
   "source": [
    "class NumberArray():\n",
    "  \"\"\"\n",
    "  It contain all the methods used in this project.\n",
    "\n",
    "  Methods:\n",
    "  - create_dataset => Method for creating dataset\n",
    "  - label_dataset => Method for labeling the dataset\n",
    "  - label_sample => Method returns the sample of the provided sample\n",
    "  \"\"\"\n",
    "\n",
    "  def __init__(self, n, k):\n",
    "    \"\"\"\n",
    "    Constructor of the class. Maps the provided arguments to respective\n",
    "    attributes. \n",
    "    \"\"\"\n",
    "    \n",
    "    self.n = n\n",
    "    self.k = k\n",
    "\n",
    "  def create_dataset(self):\n",
    "    \"\"\"\n",
    "    Uses n and k class parameters and create an array with all possible \n",
    "    combinations with repetition. It converts this array into a pandas dataframe \n",
    "    for dealing with data in easy and better way.\n",
    "\n",
    "    Dataframe containing all data is return when this method is called. \n",
    "    \"\"\"\n",
    "\n",
    "    arr = [i for i in range(1, self.n + 1)]\n",
    "    all_combinations = np.array(list(itertools.product(arr, repeat = self.k)))\n",
    "    self.dataset = pd.DataFrame(all_combinations, columns=range(1, self.k + 1))\n",
    "    return self.dataset\n",
    "\n",
    "  def create_random_sample_dataset(self, no_of_samples = 1000):\n",
    "    \"\"\"\n",
    "    This method creates create random samples of the permutation. It takes no_of_samples\n",
    "    in argument and create a dataset with that number of random samples. Default no_of_samples \n",
    "    is set to 1000.\n",
    "    \"\"\"\n",
    "    \n",
    "    arr = [i for i in range(1, self.n + 1)]\n",
    "    combinations = set()\n",
    "    temp = len(combinations)\n",
    "    working_fine = no_of_samples\n",
    "\n",
    "    while len(combinations) != no_of_samples and working_fine:\n",
    "      combinations.add(tuple(np.random.choice(arr, self.k)))\n",
    "      if len(combinations) == temp:\n",
    "        working_fine -= 1\n",
    "      else:\n",
    "        temp = len(combinations)\n",
    "        working_fine = no_of_samples\n",
    "\n",
    "    if not working_fine:\n",
    "      print(f\"{no_of_samples} samples are not possible. Max permutation for our case are {len(combinations)}\")\n",
    "    combinations_tuple = tuple(combinations)\n",
    "    self.dataset = pd.DataFrame(combinations_tuple, columns=range(1, self.k + 1))\n",
    "    return self.dataset\n",
    "\n",
    "  def label_dataset(self):\n",
    "    \"\"\"\n",
    "    It creates a labeled dataset. Copies the dataset so that changes doesnot \n",
    "    effect original dataset. Create a new column for output labels and returns\n",
    "    the dataset with labels.\n",
    "    \"\"\"\n",
    "    \n",
    "    self.labeled_dataset = self.dataset.copy()\n",
    "    self.labeled_dataset['unique'] = self.labeled_dataset.apply(\n",
    "        lambda sample: self.unique(sample.values), axis=1\n",
    "        )\n",
    "    self.labeled_dataset['difference_max'] = self.labeled_dataset.apply(\n",
    "        lambda sample: self.difference_max(sample.values), axis=1\n",
    "        )\n",
    "    self.labeled_dataset['difference_last'] = self.labeled_dataset.apply(\n",
    "        lambda sample: self.difference_last(sample.values), axis=1\n",
    "        )\n",
    "    self.labeled_dataset['output'] = self.labeled_dataset.apply(\n",
    "        lambda sample: self.label_sample(sample), axis=1\n",
    "        )\n",
    "    return self.labeled_dataset\n",
    "  \n",
    "  def unique(self, sample):\n",
    "    \"\"\"\n",
    "    Method to return unique value for creating a new feature of the dataset\n",
    "    \"\"\"\n",
    "    \n",
    "    unique = len(list(np.unique(sample)))\n",
    "    return unique\n",
    "\n",
    "  def difference_max(self, sample):\n",
    "    \"\"\"\n",
    "    Method to return difference between maximum and minimum value of the sample for creating a new feature of the dataset\n",
    "    \"\"\"\n",
    "    \n",
    "    unique = list(np.unique(sample))\n",
    "    return max(unique) - min(unique)\n",
    "  \n",
    "  def difference_last(self, sample):\n",
    "    \"\"\"\n",
    "    Method to return difference between maximum and second largest value of the sample for creating a new feature of the dataset\n",
    "    \"\"\"\n",
    "    \n",
    "    unique = sorted(list(np.unique(sample)))\n",
    "    new_unique = sorted(list(np.unique(sample[:-1])))\n",
    "    return max(unique) - max(new_unique)\n",
    "  \n",
    "  def label_sample(self, sample):\n",
    "    \"\"\"\n",
    "    Return labels of each sample provided.\n",
    "    \"\"\"\n",
    "    \n",
    "    sample_value = sample.values\n",
    "    unique = list(np.unique(sample_value))\n",
    "    if sorted(unique) == list(range(min(unique), max(unique) + 1)):\n",
    "      if len(unique) <= 0.6 * self.k:\n",
    "        return 30\n",
    "      return 20\n",
    "    else:\n",
    "      new_sample_value = list(sorted(sample_value)[:-1])\n",
    "      new_unique = list(np.unique(new_sample_value))\n",
    "      if sorted(new_unique) == list(range(min(new_unique), max(new_unique) + 1)):\n",
    "        if max(unique) - max(new_unique) > 0.7 * self.n:\n",
    "          if len(unique) <= 0.6 * self.k:\n",
    "            return 10\n",
    "      return 20\n",
    "  \n",
    "  def train_model(self, test_size = 0.3 ):\n",
    "    \"\"\"\n",
    "    Method for training a Naive Bayes Model and predict the output using provided features.\n",
    "    \n",
    "    It returns a dataframe with all the features, i.e, engineered features, input features, output label and predicted label.\n",
    "    \"\"\"\n",
    "    \n",
    "    labeled_dataset_copied = self.labeled_dataset.copy()\n",
    "    X = labeled_dataset_copied.drop([\"output\"], axis=1).values\n",
    "    y = self.labeled_dataset[\"output\"].values\n",
    "\n",
    "    oversample =SMOTE(k_neighbors=2)\n",
    "    X, y = oversample.fit_resample(X, y)\n",
    "\n",
    "    X_train, X_test, y_train, y_test = train_test_split(X, y, test_size=test_size, random_state=0)\n",
    "    self.guassian_nb = GaussianNB()\n",
    "    self.guassian_nb.fit(X_train, y_train)\n",
    "    y_pred = self.guassian_nb.predict(X_test)\n",
    "    print(\"Number of mislabeled points out of a total %d points : %d\" % (X_test.shape[0], (y_test != y_pred).sum()))\n",
    "\n",
    "    columns = [i for i in range(1, self.k + 1)] + [\"unique\", \"difference_max\", \"difference_last\"]\n",
    "    \n",
    "    self.predicted_dataset = pd.DataFrame(X_test, columns=columns)\n",
    "    self.predicted_dataset[\"Original Output\"] = y_test\n",
    "    self.predicted_dataset[\"Predicted Output\"] = y_pred\n",
    "    \n",
    "    return self.predicted_dataset\n",
    "\n",
    "  def predict_sample(self, sample):\n",
    "    \"\"\"\n",
    "    Method for predicting a single sample of the dataset.\n",
    "    \"\"\"\n",
    "    \n",
    "    unique = self.unique(np.array(sample))\n",
    "    difference_max = self.difference_max(np.array(sample))\n",
    "    difference_last = self.difference_last(np.array(sample))\n",
    "\n",
    "    sample.append(unique)\n",
    "    sample.append(difference_max)\n",
    "    sample.append(difference_last)\n",
    "\n",
    "    pred_sample = np.array([sample])\n",
    "    prediction = self.guassian_nb.predict(pred_sample)\n",
    "    return prediction\n",
    "\n",
    "  def export_dataset(self):\n",
    "    \"\"\"\n",
    "    Exports dataset as .csv file\n",
    "    \"\"\"\n",
    "    \n",
    "    self.labeled_dataset.to_csv(\"number_array_dataset.csv\",index=False)"
   ]
  },
  {
   "cell_type": "markdown",
   "metadata": {
    "id": "n5HJOJgL6ftp"
   },
   "source": [
    "#### Make object of class"
   ]
  },
  {
   "cell_type": "markdown",
   "metadata": {},
   "source": [
    "This line of code creates an Object of the class and all methods are present in that class."
   ]
  },
  {
   "cell_type": "code",
   "execution_count": 29,
   "metadata": {
    "id": "y5FF3ZjwvsPH"
   },
   "outputs": [],
   "source": [
    "number_array = NumberArray(10, 10)"
   ]
  },
  {
   "cell_type": "markdown",
   "metadata": {
    "id": "dgznWnHK6ltD"
   },
   "source": [
    "#### Create dataset using create_dataset() method"
   ]
  },
  {
   "cell_type": "markdown",
   "metadata": {
    "id": "OQmsLHc58oes"
   },
   "source": [
    "We discourage using this method as there may be very large amount of permutations and you may get memory error due to memory constraints.\n",
    "\n",
    "Use create_random_sample_dataset(no_of_sample) instead. It takes no of samples as argument and create dataset."
   ]
  },
  {
   "cell_type": "code",
   "execution_count": 30,
   "metadata": {
    "id": "WAqFlDEtvycs"
   },
   "outputs": [],
   "source": [
    "#number_array.create_dataset()"
   ]
  },
  {
   "cell_type": "markdown",
   "metadata": {
    "id": "Po_s6A2i2SxV"
   },
   "source": [
    "### Create Dataset with Random Samples of the permutation"
   ]
  },
  {
   "cell_type": "code",
   "execution_count": 31,
   "metadata": {
    "colab": {
     "base_uri": "https://localhost:8080/",
     "height": 424
    },
    "id": "thpsqlb32Zx1",
    "outputId": "131ac329-c928-4050-eead-3d7a02993e86"
   },
   "outputs": [
    {
     "data": {
      "text/html": [
       "<div>\n",
       "<style scoped>\n",
       "    .dataframe tbody tr th:only-of-type {\n",
       "        vertical-align: middle;\n",
       "    }\n",
       "\n",
       "    .dataframe tbody tr th {\n",
       "        vertical-align: top;\n",
       "    }\n",
       "\n",
       "    .dataframe thead th {\n",
       "        text-align: right;\n",
       "    }\n",
       "</style>\n",
       "<table border=\"1\" class=\"dataframe\">\n",
       "  <thead>\n",
       "    <tr style=\"text-align: right;\">\n",
       "      <th></th>\n",
       "      <th>1</th>\n",
       "      <th>2</th>\n",
       "      <th>3</th>\n",
       "      <th>4</th>\n",
       "      <th>5</th>\n",
       "      <th>6</th>\n",
       "      <th>7</th>\n",
       "      <th>8</th>\n",
       "      <th>9</th>\n",
       "      <th>10</th>\n",
       "    </tr>\n",
       "  </thead>\n",
       "  <tbody>\n",
       "    <tr>\n",
       "      <td>0</td>\n",
       "      <td>2</td>\n",
       "      <td>1</td>\n",
       "      <td>6</td>\n",
       "      <td>8</td>\n",
       "      <td>3</td>\n",
       "      <td>7</td>\n",
       "      <td>4</td>\n",
       "      <td>3</td>\n",
       "      <td>4</td>\n",
       "      <td>5</td>\n",
       "    </tr>\n",
       "    <tr>\n",
       "      <td>1</td>\n",
       "      <td>6</td>\n",
       "      <td>8</td>\n",
       "      <td>2</td>\n",
       "      <td>10</td>\n",
       "      <td>7</td>\n",
       "      <td>10</td>\n",
       "      <td>10</td>\n",
       "      <td>10</td>\n",
       "      <td>9</td>\n",
       "      <td>8</td>\n",
       "    </tr>\n",
       "    <tr>\n",
       "      <td>2</td>\n",
       "      <td>10</td>\n",
       "      <td>2</td>\n",
       "      <td>6</td>\n",
       "      <td>8</td>\n",
       "      <td>3</td>\n",
       "      <td>7</td>\n",
       "      <td>6</td>\n",
       "      <td>3</td>\n",
       "      <td>6</td>\n",
       "      <td>9</td>\n",
       "    </tr>\n",
       "    <tr>\n",
       "      <td>3</td>\n",
       "      <td>1</td>\n",
       "      <td>1</td>\n",
       "      <td>6</td>\n",
       "      <td>3</td>\n",
       "      <td>6</td>\n",
       "      <td>4</td>\n",
       "      <td>4</td>\n",
       "      <td>8</td>\n",
       "      <td>1</td>\n",
       "      <td>10</td>\n",
       "    </tr>\n",
       "    <tr>\n",
       "      <td>4</td>\n",
       "      <td>5</td>\n",
       "      <td>2</td>\n",
       "      <td>6</td>\n",
       "      <td>6</td>\n",
       "      <td>9</td>\n",
       "      <td>2</td>\n",
       "      <td>4</td>\n",
       "      <td>8</td>\n",
       "      <td>10</td>\n",
       "      <td>3</td>\n",
       "    </tr>\n",
       "    <tr>\n",
       "      <td>...</td>\n",
       "      <td>...</td>\n",
       "      <td>...</td>\n",
       "      <td>...</td>\n",
       "      <td>...</td>\n",
       "      <td>...</td>\n",
       "      <td>...</td>\n",
       "      <td>...</td>\n",
       "      <td>...</td>\n",
       "      <td>...</td>\n",
       "      <td>...</td>\n",
       "    </tr>\n",
       "    <tr>\n",
       "      <td>999995</td>\n",
       "      <td>8</td>\n",
       "      <td>9</td>\n",
       "      <td>1</td>\n",
       "      <td>8</td>\n",
       "      <td>2</td>\n",
       "      <td>7</td>\n",
       "      <td>7</td>\n",
       "      <td>1</td>\n",
       "      <td>9</td>\n",
       "      <td>1</td>\n",
       "    </tr>\n",
       "    <tr>\n",
       "      <td>999996</td>\n",
       "      <td>8</td>\n",
       "      <td>10</td>\n",
       "      <td>8</td>\n",
       "      <td>7</td>\n",
       "      <td>3</td>\n",
       "      <td>7</td>\n",
       "      <td>1</td>\n",
       "      <td>10</td>\n",
       "      <td>1</td>\n",
       "      <td>7</td>\n",
       "    </tr>\n",
       "    <tr>\n",
       "      <td>999997</td>\n",
       "      <td>3</td>\n",
       "      <td>3</td>\n",
       "      <td>9</td>\n",
       "      <td>4</td>\n",
       "      <td>9</td>\n",
       "      <td>10</td>\n",
       "      <td>4</td>\n",
       "      <td>8</td>\n",
       "      <td>10</td>\n",
       "      <td>6</td>\n",
       "    </tr>\n",
       "    <tr>\n",
       "      <td>999998</td>\n",
       "      <td>5</td>\n",
       "      <td>7</td>\n",
       "      <td>5</td>\n",
       "      <td>9</td>\n",
       "      <td>7</td>\n",
       "      <td>8</td>\n",
       "      <td>4</td>\n",
       "      <td>6</td>\n",
       "      <td>9</td>\n",
       "      <td>8</td>\n",
       "    </tr>\n",
       "    <tr>\n",
       "      <td>999999</td>\n",
       "      <td>8</td>\n",
       "      <td>5</td>\n",
       "      <td>6</td>\n",
       "      <td>8</td>\n",
       "      <td>1</td>\n",
       "      <td>1</td>\n",
       "      <td>2</td>\n",
       "      <td>2</td>\n",
       "      <td>8</td>\n",
       "      <td>1</td>\n",
       "    </tr>\n",
       "  </tbody>\n",
       "</table>\n",
       "<p>1000000 rows × 10 columns</p>\n",
       "</div>"
      ],
      "text/plain": [
       "         1   2  3   4  5   6   7   8   9  10\n",
       "0        2   1  6   8  3   7   4   3   4   5\n",
       "1        6   8  2  10  7  10  10  10   9   8\n",
       "2       10   2  6   8  3   7   6   3   6   9\n",
       "3        1   1  6   3  6   4   4   8   1  10\n",
       "4        5   2  6   6  9   2   4   8  10   3\n",
       "...     ..  .. ..  .. ..  ..  ..  ..  ..  ..\n",
       "999995   8   9  1   8  2   7   7   1   9   1\n",
       "999996   8  10  8   7  3   7   1  10   1   7\n",
       "999997   3   3  9   4  9  10   4   8  10   6\n",
       "999998   5   7  5   9  7   8   4   6   9   8\n",
       "999999   8   5  6   8  1   1   2   2   8   1\n",
       "\n",
       "[1000000 rows x 10 columns]"
      ]
     },
     "execution_count": 31,
     "metadata": {},
     "output_type": "execute_result"
    }
   ],
   "source": [
    "number_array.create_random_sample_dataset(1000000)"
   ]
  },
  {
   "cell_type": "markdown",
   "metadata": {
    "id": "x_xdacsj6xDf"
   },
   "source": [
    "#### Label dataset and create new features using feature engineering "
   ]
  },
  {
   "cell_type": "code",
   "execution_count": 32,
   "metadata": {
    "colab": {
     "base_uri": "https://localhost:8080/"
    },
    "id": "Cfj3mXrDx8u4",
    "outputId": "65ccc86c-d95c-4ba5-9034-41fa98f80030"
   },
   "outputs": [],
   "source": [
    "label_df = number_array.label_dataset()"
   ]
  },
  {
   "cell_type": "code",
   "execution_count": 33,
   "metadata": {
    "colab": {
     "base_uri": "https://localhost:8080/",
     "height": 424
    },
    "id": "Uz5YOHJwybKe",
    "outputId": "86e1574c-1cf2-4b34-8793-239d624f08ac"
   },
   "outputs": [
    {
     "data": {
      "text/html": [
       "<div>\n",
       "<style scoped>\n",
       "    .dataframe tbody tr th:only-of-type {\n",
       "        vertical-align: middle;\n",
       "    }\n",
       "\n",
       "    .dataframe tbody tr th {\n",
       "        vertical-align: top;\n",
       "    }\n",
       "\n",
       "    .dataframe thead th {\n",
       "        text-align: right;\n",
       "    }\n",
       "</style>\n",
       "<table border=\"1\" class=\"dataframe\">\n",
       "  <thead>\n",
       "    <tr style=\"text-align: right;\">\n",
       "      <th></th>\n",
       "      <th>1</th>\n",
       "      <th>2</th>\n",
       "      <th>3</th>\n",
       "      <th>4</th>\n",
       "      <th>5</th>\n",
       "      <th>6</th>\n",
       "      <th>7</th>\n",
       "      <th>8</th>\n",
       "      <th>9</th>\n",
       "      <th>10</th>\n",
       "      <th>unique</th>\n",
       "      <th>difference_max</th>\n",
       "      <th>difference_last</th>\n",
       "      <th>output</th>\n",
       "    </tr>\n",
       "  </thead>\n",
       "  <tbody>\n",
       "    <tr>\n",
       "      <td>0</td>\n",
       "      <td>2</td>\n",
       "      <td>1</td>\n",
       "      <td>6</td>\n",
       "      <td>8</td>\n",
       "      <td>3</td>\n",
       "      <td>7</td>\n",
       "      <td>4</td>\n",
       "      <td>3</td>\n",
       "      <td>4</td>\n",
       "      <td>5</td>\n",
       "      <td>8</td>\n",
       "      <td>7</td>\n",
       "      <td>0</td>\n",
       "      <td>20</td>\n",
       "    </tr>\n",
       "    <tr>\n",
       "      <td>1</td>\n",
       "      <td>6</td>\n",
       "      <td>8</td>\n",
       "      <td>2</td>\n",
       "      <td>10</td>\n",
       "      <td>7</td>\n",
       "      <td>10</td>\n",
       "      <td>10</td>\n",
       "      <td>10</td>\n",
       "      <td>9</td>\n",
       "      <td>8</td>\n",
       "      <td>6</td>\n",
       "      <td>8</td>\n",
       "      <td>0</td>\n",
       "      <td>20</td>\n",
       "    </tr>\n",
       "    <tr>\n",
       "      <td>2</td>\n",
       "      <td>10</td>\n",
       "      <td>2</td>\n",
       "      <td>6</td>\n",
       "      <td>8</td>\n",
       "      <td>3</td>\n",
       "      <td>7</td>\n",
       "      <td>6</td>\n",
       "      <td>3</td>\n",
       "      <td>6</td>\n",
       "      <td>9</td>\n",
       "      <td>7</td>\n",
       "      <td>8</td>\n",
       "      <td>0</td>\n",
       "      <td>20</td>\n",
       "    </tr>\n",
       "    <tr>\n",
       "      <td>3</td>\n",
       "      <td>1</td>\n",
       "      <td>1</td>\n",
       "      <td>6</td>\n",
       "      <td>3</td>\n",
       "      <td>6</td>\n",
       "      <td>4</td>\n",
       "      <td>4</td>\n",
       "      <td>8</td>\n",
       "      <td>1</td>\n",
       "      <td>10</td>\n",
       "      <td>6</td>\n",
       "      <td>9</td>\n",
       "      <td>0</td>\n",
       "      <td>20</td>\n",
       "    </tr>\n",
       "    <tr>\n",
       "      <td>4</td>\n",
       "      <td>5</td>\n",
       "      <td>2</td>\n",
       "      <td>6</td>\n",
       "      <td>6</td>\n",
       "      <td>9</td>\n",
       "      <td>2</td>\n",
       "      <td>4</td>\n",
       "      <td>8</td>\n",
       "      <td>10</td>\n",
       "      <td>3</td>\n",
       "      <td>8</td>\n",
       "      <td>8</td>\n",
       "      <td>0</td>\n",
       "      <td>20</td>\n",
       "    </tr>\n",
       "    <tr>\n",
       "      <td>...</td>\n",
       "      <td>...</td>\n",
       "      <td>...</td>\n",
       "      <td>...</td>\n",
       "      <td>...</td>\n",
       "      <td>...</td>\n",
       "      <td>...</td>\n",
       "      <td>...</td>\n",
       "      <td>...</td>\n",
       "      <td>...</td>\n",
       "      <td>...</td>\n",
       "      <td>...</td>\n",
       "      <td>...</td>\n",
       "      <td>...</td>\n",
       "      <td>...</td>\n",
       "    </tr>\n",
       "    <tr>\n",
       "      <td>999995</td>\n",
       "      <td>8</td>\n",
       "      <td>9</td>\n",
       "      <td>1</td>\n",
       "      <td>8</td>\n",
       "      <td>2</td>\n",
       "      <td>7</td>\n",
       "      <td>7</td>\n",
       "      <td>1</td>\n",
       "      <td>9</td>\n",
       "      <td>1</td>\n",
       "      <td>5</td>\n",
       "      <td>8</td>\n",
       "      <td>0</td>\n",
       "      <td>20</td>\n",
       "    </tr>\n",
       "    <tr>\n",
       "      <td>999996</td>\n",
       "      <td>8</td>\n",
       "      <td>10</td>\n",
       "      <td>8</td>\n",
       "      <td>7</td>\n",
       "      <td>3</td>\n",
       "      <td>7</td>\n",
       "      <td>1</td>\n",
       "      <td>10</td>\n",
       "      <td>1</td>\n",
       "      <td>7</td>\n",
       "      <td>5</td>\n",
       "      <td>9</td>\n",
       "      <td>0</td>\n",
       "      <td>20</td>\n",
       "    </tr>\n",
       "    <tr>\n",
       "      <td>999997</td>\n",
       "      <td>3</td>\n",
       "      <td>3</td>\n",
       "      <td>9</td>\n",
       "      <td>4</td>\n",
       "      <td>9</td>\n",
       "      <td>10</td>\n",
       "      <td>4</td>\n",
       "      <td>8</td>\n",
       "      <td>10</td>\n",
       "      <td>6</td>\n",
       "      <td>6</td>\n",
       "      <td>7</td>\n",
       "      <td>0</td>\n",
       "      <td>20</td>\n",
       "    </tr>\n",
       "    <tr>\n",
       "      <td>999998</td>\n",
       "      <td>5</td>\n",
       "      <td>7</td>\n",
       "      <td>5</td>\n",
       "      <td>9</td>\n",
       "      <td>7</td>\n",
       "      <td>8</td>\n",
       "      <td>4</td>\n",
       "      <td>6</td>\n",
       "      <td>9</td>\n",
       "      <td>8</td>\n",
       "      <td>6</td>\n",
       "      <td>5</td>\n",
       "      <td>0</td>\n",
       "      <td>20</td>\n",
       "    </tr>\n",
       "    <tr>\n",
       "      <td>999999</td>\n",
       "      <td>8</td>\n",
       "      <td>5</td>\n",
       "      <td>6</td>\n",
       "      <td>8</td>\n",
       "      <td>1</td>\n",
       "      <td>1</td>\n",
       "      <td>2</td>\n",
       "      <td>2</td>\n",
       "      <td>8</td>\n",
       "      <td>1</td>\n",
       "      <td>5</td>\n",
       "      <td>7</td>\n",
       "      <td>0</td>\n",
       "      <td>20</td>\n",
       "    </tr>\n",
       "  </tbody>\n",
       "</table>\n",
       "<p>1000000 rows × 14 columns</p>\n",
       "</div>"
      ],
      "text/plain": [
       "         1   2  3   4  5   6   7   8   9  10  unique  difference_max  \\\n",
       "0        2   1  6   8  3   7   4   3   4   5       8               7   \n",
       "1        6   8  2  10  7  10  10  10   9   8       6               8   \n",
       "2       10   2  6   8  3   7   6   3   6   9       7               8   \n",
       "3        1   1  6   3  6   4   4   8   1  10       6               9   \n",
       "4        5   2  6   6  9   2   4   8  10   3       8               8   \n",
       "...     ..  .. ..  .. ..  ..  ..  ..  ..  ..     ...             ...   \n",
       "999995   8   9  1   8  2   7   7   1   9   1       5               8   \n",
       "999996   8  10  8   7  3   7   1  10   1   7       5               9   \n",
       "999997   3   3  9   4  9  10   4   8  10   6       6               7   \n",
       "999998   5   7  5   9  7   8   4   6   9   8       6               5   \n",
       "999999   8   5  6   8  1   1   2   2   8   1       5               7   \n",
       "\n",
       "        difference_last  output  \n",
       "0                     0      20  \n",
       "1                     0      20  \n",
       "2                     0      20  \n",
       "3                     0      20  \n",
       "4                     0      20  \n",
       "...                 ...     ...  \n",
       "999995                0      20  \n",
       "999996                0      20  \n",
       "999997                0      20  \n",
       "999998                0      20  \n",
       "999999                0      20  \n",
       "\n",
       "[1000000 rows x 14 columns]"
      ]
     },
     "execution_count": 33,
     "metadata": {},
     "output_type": "execute_result"
    }
   ],
   "source": [
    "label_df"
   ]
  },
  {
   "cell_type": "code",
   "execution_count": 34,
   "metadata": {
    "colab": {
     "base_uri": "https://localhost:8080/"
    },
    "id": "KEV__gnRxi6y",
    "outputId": "f96f9c46-cd2c-45e9-8d9e-08b807542afa"
   },
   "outputs": [
    {
     "name": "stdout",
     "output_type": "stream",
     "text": [
      "Occurence of 10 =>  0\n",
      "Occurence of 20 =>  999338\n",
      "Occurence of 30 =>  662\n"
     ]
    }
   ],
   "source": [
    "print(\"Occurence of 10 => \",label_df[label_df['output'] == 10].shape[0])\n",
    "print(\"Occurence of 20 => \",label_df[label_df['output'] == 20].shape[0])\n",
    "print(\"Occurence of 30 => \",label_df[label_df['output'] == 30].shape[0])"
   ]
  },
  {
   "cell_type": "markdown",
   "metadata": {
    "id": "pZnCH07CoeHj"
   },
   "source": [
    "### Train Model"
   ]
  },
  {
   "cell_type": "code",
   "execution_count": 35,
   "metadata": {
    "colab": {
     "base_uri": "https://localhost:8080/"
    },
    "id": "q9Plwi_Wogk7",
    "outputId": "d1a52cb2-ed23-4db8-b602-74d354519212"
   },
   "outputs": [
    {
     "name": "stdout",
     "output_type": "stream",
     "text": [
      "Number of mislabeled points out of a total 599603 points : 1412\n"
     ]
    }
   ],
   "source": [
    "df = number_array.train_model(test_size=0.3)"
   ]
  },
  {
   "cell_type": "code",
   "execution_count": 36,
   "metadata": {
    "colab": {
     "base_uri": "https://localhost:8080/",
     "height": 424
    },
    "id": "-NvQn6WF0grM",
    "outputId": "5f715524-dae4-4f3c-c981-dcf8f6fcacc0"
   },
   "outputs": [
    {
     "data": {
      "text/html": [
       "<div>\n",
       "<style scoped>\n",
       "    .dataframe tbody tr th:only-of-type {\n",
       "        vertical-align: middle;\n",
       "    }\n",
       "\n",
       "    .dataframe tbody tr th {\n",
       "        vertical-align: top;\n",
       "    }\n",
       "\n",
       "    .dataframe thead th {\n",
       "        text-align: right;\n",
       "    }\n",
       "</style>\n",
       "<table border=\"1\" class=\"dataframe\">\n",
       "  <thead>\n",
       "    <tr style=\"text-align: right;\">\n",
       "      <th></th>\n",
       "      <th>1</th>\n",
       "      <th>2</th>\n",
       "      <th>3</th>\n",
       "      <th>4</th>\n",
       "      <th>5</th>\n",
       "      <th>6</th>\n",
       "      <th>7</th>\n",
       "      <th>8</th>\n",
       "      <th>9</th>\n",
       "      <th>10</th>\n",
       "      <th>unique</th>\n",
       "      <th>difference_max</th>\n",
       "      <th>difference_last</th>\n",
       "      <th>Original Output</th>\n",
       "      <th>Predicted Output</th>\n",
       "    </tr>\n",
       "  </thead>\n",
       "  <tbody>\n",
       "    <tr>\n",
       "      <td>0</td>\n",
       "      <td>4</td>\n",
       "      <td>5</td>\n",
       "      <td>3</td>\n",
       "      <td>3</td>\n",
       "      <td>1</td>\n",
       "      <td>3</td>\n",
       "      <td>1</td>\n",
       "      <td>3</td>\n",
       "      <td>4</td>\n",
       "      <td>1</td>\n",
       "      <td>5</td>\n",
       "      <td>4</td>\n",
       "      <td>0</td>\n",
       "      <td>30</td>\n",
       "      <td>30</td>\n",
       "    </tr>\n",
       "    <tr>\n",
       "      <td>1</td>\n",
       "      <td>4</td>\n",
       "      <td>9</td>\n",
       "      <td>2</td>\n",
       "      <td>5</td>\n",
       "      <td>1</td>\n",
       "      <td>5</td>\n",
       "      <td>9</td>\n",
       "      <td>10</td>\n",
       "      <td>9</td>\n",
       "      <td>2</td>\n",
       "      <td>6</td>\n",
       "      <td>9</td>\n",
       "      <td>0</td>\n",
       "      <td>20</td>\n",
       "      <td>20</td>\n",
       "    </tr>\n",
       "    <tr>\n",
       "      <td>2</td>\n",
       "      <td>1</td>\n",
       "      <td>4</td>\n",
       "      <td>3</td>\n",
       "      <td>3</td>\n",
       "      <td>2</td>\n",
       "      <td>5</td>\n",
       "      <td>1</td>\n",
       "      <td>1</td>\n",
       "      <td>2</td>\n",
       "      <td>5</td>\n",
       "      <td>5</td>\n",
       "      <td>4</td>\n",
       "      <td>0</td>\n",
       "      <td>30</td>\n",
       "      <td>30</td>\n",
       "    </tr>\n",
       "    <tr>\n",
       "      <td>3</td>\n",
       "      <td>6</td>\n",
       "      <td>3</td>\n",
       "      <td>8</td>\n",
       "      <td>1</td>\n",
       "      <td>6</td>\n",
       "      <td>9</td>\n",
       "      <td>7</td>\n",
       "      <td>4</td>\n",
       "      <td>7</td>\n",
       "      <td>3</td>\n",
       "      <td>7</td>\n",
       "      <td>8</td>\n",
       "      <td>0</td>\n",
       "      <td>20</td>\n",
       "      <td>20</td>\n",
       "    </tr>\n",
       "    <tr>\n",
       "      <td>4</td>\n",
       "      <td>1</td>\n",
       "      <td>1</td>\n",
       "      <td>3</td>\n",
       "      <td>1</td>\n",
       "      <td>5</td>\n",
       "      <td>4</td>\n",
       "      <td>3</td>\n",
       "      <td>4</td>\n",
       "      <td>1</td>\n",
       "      <td>3</td>\n",
       "      <td>5</td>\n",
       "      <td>4</td>\n",
       "      <td>0</td>\n",
       "      <td>30</td>\n",
       "      <td>30</td>\n",
       "    </tr>\n",
       "    <tr>\n",
       "      <td>...</td>\n",
       "      <td>...</td>\n",
       "      <td>...</td>\n",
       "      <td>...</td>\n",
       "      <td>...</td>\n",
       "      <td>...</td>\n",
       "      <td>...</td>\n",
       "      <td>...</td>\n",
       "      <td>...</td>\n",
       "      <td>...</td>\n",
       "      <td>...</td>\n",
       "      <td>...</td>\n",
       "      <td>...</td>\n",
       "      <td>...</td>\n",
       "      <td>...</td>\n",
       "      <td>...</td>\n",
       "    </tr>\n",
       "    <tr>\n",
       "      <td>599598</td>\n",
       "      <td>1</td>\n",
       "      <td>1</td>\n",
       "      <td>3</td>\n",
       "      <td>3</td>\n",
       "      <td>1</td>\n",
       "      <td>3</td>\n",
       "      <td>4</td>\n",
       "      <td>4</td>\n",
       "      <td>2</td>\n",
       "      <td>1</td>\n",
       "      <td>4</td>\n",
       "      <td>3</td>\n",
       "      <td>0</td>\n",
       "      <td>30</td>\n",
       "      <td>30</td>\n",
       "    </tr>\n",
       "    <tr>\n",
       "      <td>599599</td>\n",
       "      <td>2</td>\n",
       "      <td>1</td>\n",
       "      <td>1</td>\n",
       "      <td>3</td>\n",
       "      <td>1</td>\n",
       "      <td>1</td>\n",
       "      <td>4</td>\n",
       "      <td>4</td>\n",
       "      <td>2</td>\n",
       "      <td>3</td>\n",
       "      <td>4</td>\n",
       "      <td>3</td>\n",
       "      <td>0</td>\n",
       "      <td>30</td>\n",
       "      <td>30</td>\n",
       "    </tr>\n",
       "    <tr>\n",
       "      <td>599600</td>\n",
       "      <td>3</td>\n",
       "      <td>1</td>\n",
       "      <td>2</td>\n",
       "      <td>5</td>\n",
       "      <td>2</td>\n",
       "      <td>2</td>\n",
       "      <td>1</td>\n",
       "      <td>3</td>\n",
       "      <td>2</td>\n",
       "      <td>2</td>\n",
       "      <td>4</td>\n",
       "      <td>4</td>\n",
       "      <td>0</td>\n",
       "      <td>30</td>\n",
       "      <td>30</td>\n",
       "    </tr>\n",
       "    <tr>\n",
       "      <td>599601</td>\n",
       "      <td>2</td>\n",
       "      <td>9</td>\n",
       "      <td>3</td>\n",
       "      <td>6</td>\n",
       "      <td>2</td>\n",
       "      <td>9</td>\n",
       "      <td>10</td>\n",
       "      <td>5</td>\n",
       "      <td>1</td>\n",
       "      <td>3</td>\n",
       "      <td>7</td>\n",
       "      <td>9</td>\n",
       "      <td>0</td>\n",
       "      <td>20</td>\n",
       "      <td>20</td>\n",
       "    </tr>\n",
       "    <tr>\n",
       "      <td>599602</td>\n",
       "      <td>3</td>\n",
       "      <td>2</td>\n",
       "      <td>2</td>\n",
       "      <td>5</td>\n",
       "      <td>3</td>\n",
       "      <td>2</td>\n",
       "      <td>2</td>\n",
       "      <td>2</td>\n",
       "      <td>1</td>\n",
       "      <td>1</td>\n",
       "      <td>4</td>\n",
       "      <td>4</td>\n",
       "      <td>0</td>\n",
       "      <td>30</td>\n",
       "      <td>30</td>\n",
       "    </tr>\n",
       "  </tbody>\n",
       "</table>\n",
       "<p>599603 rows × 15 columns</p>\n",
       "</div>"
      ],
      "text/plain": [
       "        1  2  3  4  5  6   7   8  9  10  unique  difference_max  \\\n",
       "0       4  5  3  3  1  3   1   3  4   1       5               4   \n",
       "1       4  9  2  5  1  5   9  10  9   2       6               9   \n",
       "2       1  4  3  3  2  5   1   1  2   5       5               4   \n",
       "3       6  3  8  1  6  9   7   4  7   3       7               8   \n",
       "4       1  1  3  1  5  4   3   4  1   3       5               4   \n",
       "...    .. .. .. .. .. ..  ..  .. ..  ..     ...             ...   \n",
       "599598  1  1  3  3  1  3   4   4  2   1       4               3   \n",
       "599599  2  1  1  3  1  1   4   4  2   3       4               3   \n",
       "599600  3  1  2  5  2  2   1   3  2   2       4               4   \n",
       "599601  2  9  3  6  2  9  10   5  1   3       7               9   \n",
       "599602  3  2  2  5  3  2   2   2  1   1       4               4   \n",
       "\n",
       "        difference_last  Original Output  Predicted Output  \n",
       "0                     0               30                30  \n",
       "1                     0               20                20  \n",
       "2                     0               30                30  \n",
       "3                     0               20                20  \n",
       "4                     0               30                30  \n",
       "...                 ...              ...               ...  \n",
       "599598                0               30                30  \n",
       "599599                0               30                30  \n",
       "599600                0               30                30  \n",
       "599601                0               20                20  \n",
       "599602                0               30                30  \n",
       "\n",
       "[599603 rows x 15 columns]"
      ]
     },
     "execution_count": 36,
     "metadata": {},
     "output_type": "execute_result"
    }
   ],
   "source": [
    "df"
   ]
  },
  {
   "cell_type": "code",
   "execution_count": 39,
   "metadata": {
    "colab": {
     "base_uri": "https://localhost:8080/"
    },
    "id": "y-YTKKp4w7PK",
    "outputId": "6d86a441-13f9-4d3b-d96f-dc3c559cff38"
   },
   "outputs": [
    {
     "name": "stdout",
     "output_type": "stream",
     "text": [
      "Original Occurences\n",
      "Occurence of 10 =>  0\n",
      "Occurence of 20 =>  299962\n",
      "Occurence of 30 =>  299641\n",
      "\n",
      "Y Predict Occurences\n",
      "Occurence of 10 =>  0\n",
      "Occurence of 20 =>  298550\n",
      "Occurence of 30 =>  301053\n"
     ]
    }
   ],
   "source": [
    "print(\"Original Occurences\")\n",
    "print(\"Occurence of 10 => \",df[df['Original Output'] == 10].shape[0])\n",
    "print(\"Occurence of 20 => \",df[df['Original Output'] == 20].shape[0])\n",
    "print(\"Occurence of 30 => \",df[df['Original Output'] == 30].shape[0])\n",
    "\n",
    "print(\"\\nY Predict Occurences\")\n",
    "print(\"Occurence of 10 => \",df[df['Predicted Output'] == 10].shape[0])\n",
    "print(\"Occurence of 20 => \",df[df['Predicted Output'] == 20].shape[0])\n",
    "print(\"Occurence of 30 => \",df[df['Predicted Output'] == 30].shape[0])"
   ]
  },
  {
   "cell_type": "markdown",
   "metadata": {
    "id": "xPgTrMcJrJ1M"
   },
   "source": [
    "### Predict Sample using model"
   ]
  },
  {
   "cell_type": "markdown",
   "metadata": {},
   "source": [
    "This method could be used for predicting the output of a single sample supplied."
   ]
  },
  {
   "cell_type": "code",
   "execution_count": 46,
   "metadata": {
    "colab": {
     "base_uri": "https://localhost:8080/"
    },
    "id": "uZYwVH-QrQl5",
    "outputId": "44c83f43-e4db-434a-ebc2-35cb0c3ae7f5"
   },
   "outputs": [
    {
     "data": {
      "text/plain": [
       "array([30], dtype=int64)"
      ]
     },
     "execution_count": 46,
     "metadata": {},
     "output_type": "execute_result"
    }
   ],
   "source": [
    "number_array.predict_sample([1,4,4,2,6,1,2,1,1,1])"
   ]
  },
  {
   "cell_type": "markdown",
   "metadata": {
    "id": "jOYGAEH4r-YU"
   },
   "source": [
    "#### Export Dataset as .csv file"
   ]
  },
  {
   "cell_type": "markdown",
   "metadata": {},
   "source": [
    "This method exports the dataset as a .csv file"
   ]
  },
  {
   "cell_type": "code",
   "execution_count": 47,
   "metadata": {
    "id": "2UAMfKZ2pFH_"
   },
   "outputs": [],
   "source": [
    "number_array.export_dataset()"
   ]
  },
  {
   "cell_type": "code",
   "execution_count": null,
   "metadata": {
    "id": "DA7j6ISIsF4S"
   },
   "outputs": [],
   "source": []
  },
  {
   "cell_type": "code",
   "execution_count": null,
   "metadata": {
    "id": "pxtylL5ZdMsz"
   },
   "outputs": [],
   "source": []
  },
  {
   "cell_type": "code",
   "execution_count": null,
   "metadata": {
    "colab": {
     "base_uri": "https://localhost:8080/"
    },
    "id": "b7pAb4DShOVl",
    "outputId": "bbc4085a-9be4-4462-fe59-5fbb03a3e4ed"
   },
   "outputs": [],
   "source": []
  },
  {
   "cell_type": "code",
   "execution_count": null,
   "metadata": {
    "id": "qk37I8uf05nV"
   },
   "outputs": [],
   "source": []
  }
 ],
 "metadata": {
  "colab": {
   "collapsed_sections": [],
   "name": "ML_number_array.ipynb",
   "provenance": []
  },
  "kernelspec": {
   "display_name": "Python 3",
   "language": "python",
   "name": "python3"
  },
  "language_info": {
   "codemirror_mode": {
    "name": "ipython",
    "version": 3
   },
   "file_extension": ".py",
   "mimetype": "text/x-python",
   "name": "python",
   "nbconvert_exporter": "python",
   "pygments_lexer": "ipython3",
   "version": "3.7.4"
  }
 },
 "nbformat": 4,
 "nbformat_minor": 4
}
